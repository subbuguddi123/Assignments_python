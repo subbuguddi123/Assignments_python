{
  "nbformat": 4,
  "nbformat_minor": 0,
  "metadata": {
    "colab": {
      "provenance": []
    },
    "kernelspec": {
      "name": "python3",
      "display_name": "Python 3"
    },
    "language_info": {
      "name": "python"
    }
  },
  "cells": [
    {
      "cell_type": "markdown",
      "source": [
        "1. What exactly is []?"
      ],
      "metadata": {
        "id": "70cIKyVhIrwH"
      }
    },
    {
      "cell_type": "markdown",
      "source": [
        "Ans: In Python, the square brackets [ ] are used to create a list data type. A list is a mutable, ordered collection of elements, which can be of any type (such as numbers, strings, or other objects).\n",
        "To create a list in Python:\n",
        "```\n",
        "l=[1,2,3,4,5,6]\n",
        "```\n",
        "\n",
        "You can also use square brackets to slice a list, which means to extract a subset of the elements. For example:\n",
        "```\n",
        "print(l[0:3])\n",
        "```"
      ],
      "metadata": {
        "id": "Hq1ybd6pIrzD"
      }
    },
    {
      "cell_type": "markdown",
      "source": [
        "2. In a list of values stored in a variable called spam, how would you assign the value 'hello' as the third value? (Assume [2, 4, 6, 8, 10] are in spam.)\n"
      ],
      "metadata": {
        "id": "O8yp8WEJIr2G"
      }
    },
    {
      "cell_type": "code",
      "source": [
        "spam=[2,4,6,8,10]\n",
        "spam[2]='hello'\n",
        "print(spam)"
      ],
      "metadata": {
        "colab": {
          "base_uri": "https://localhost:8080/"
        },
        "id": "oHJ4xrfSKaW9",
        "outputId": "9dbbcae7-f7aa-43cd-e1fa-d71aba8892bc"
      },
      "execution_count": null,
      "outputs": [
        {
          "output_type": "stream",
          "name": "stdout",
          "text": [
            "[2, 4, 'hello', 8, 10]\n"
          ]
        }
      ]
    },
    {
      "cell_type": "markdown",
      "source": [
        "Let's pretend the spam includes the list ['a', 'b', 'c', 'd'] for the next three queries.\n",
        "\n",
        "3. What is the value of spam[int(int('3' * 2) / 11)]?\n"
      ],
      "metadata": {
        "id": "vqVF3sX6Ir5J"
      }
    },
    {
      "cell_type": "code",
      "source": [
        "spam=['a', 'b', 'c', 'd'] \n",
        "spam[int(int('3' * 2) / 11)]    #int('3'*2)=33; int(int('3' * 2) / 11)=3\n",
        "# spam[3]"
      ],
      "metadata": {
        "colab": {
          "base_uri": "https://localhost:8080/",
          "height": 35
        },
        "id": "vAsOcgl_LEzg",
        "outputId": "bc70fb29-cde3-4a17-baf9-f2ebad302594"
      },
      "execution_count": null,
      "outputs": [
        {
          "output_type": "execute_result",
          "data": {
            "text/plain": [
              "'d'"
            ],
            "application/vnd.google.colaboratory.intrinsic+json": {
              "type": "string"
            }
          },
          "metadata": {},
          "execution_count": 5
        }
      ]
    },
    {
      "cell_type": "markdown",
      "source": [
        "4.  What is the value of spam[-1]?"
      ],
      "metadata": {
        "id": "6Kv3opwtIr8H"
      }
    },
    {
      "cell_type": "code",
      "source": [
        "spam[-1]"
      ],
      "metadata": {
        "colab": {
          "base_uri": "https://localhost:8080/",
          "height": 35
        },
        "id": "ezZSCMGmP-QB",
        "outputId": "68507e39-6a79-4732-babd-34c3a8d3fc7d"
      },
      "execution_count": null,
      "outputs": [
        {
          "output_type": "execute_result",
          "data": {
            "text/plain": [
              "'d'"
            ],
            "application/vnd.google.colaboratory.intrinsic+json": {
              "type": "string"
            }
          },
          "metadata": {},
          "execution_count": 6
        }
      ]
    },
    {
      "cell_type": "markdown",
      "source": [
        "5. What is the value of spam[:2]?\n"
      ],
      "metadata": {
        "id": "zQvBCyz3Ir_K"
      }
    },
    {
      "cell_type": "code",
      "source": [
        "spam[:2]"
      ],
      "metadata": {
        "colab": {
          "base_uri": "https://localhost:8080/"
        },
        "id": "7QNiZc3kQQtQ",
        "outputId": "0f3432a2-4dc6-43fa-9b32-274f776ffb76"
      },
      "execution_count": null,
      "outputs": [
        {
          "output_type": "execute_result",
          "data": {
            "text/plain": [
              "['a', 'b']"
            ]
          },
          "metadata": {},
          "execution_count": 7
        }
      ]
    },
    {
      "cell_type": "markdown",
      "source": [
        "Let's pretend bacon has the list [3.14, 'cat,' 11, 'cat,' True] for the next three questions.\n",
        "6. What is the value of bacon.index('cat')?\n"
      ],
      "metadata": {
        "id": "xw4weBfuIsB-"
      }
    },
    {
      "cell_type": "code",
      "source": [
        "bacon=[3.14, 'cat', 11, 'cat', True] \n",
        "bacon.index('cat')"
      ],
      "metadata": {
        "colab": {
          "base_uri": "https://localhost:8080/"
        },
        "id": "vLhl4ptFQi7D",
        "outputId": "ec2769db-bb3b-4e42-dc10-08a2893699c7"
      },
      "execution_count": null,
      "outputs": [
        {
          "output_type": "execute_result",
          "data": {
            "text/plain": [
              "1"
            ]
          },
          "metadata": {},
          "execution_count": 13
        }
      ]
    },
    {
      "cell_type": "markdown",
      "source": [
        "7. How does bacon.append(99) change the look of the list value in bacon?\n"
      ],
      "metadata": {
        "id": "kLwh47moIsFL"
      }
    },
    {
      "cell_type": "code",
      "source": [
        "bacon.append(99) \n",
        "print(bacon)"
      ],
      "metadata": {
        "colab": {
          "base_uri": "https://localhost:8080/"
        },
        "id": "OfGtp8-RQ959",
        "outputId": "f4e1b38a-dbfb-4929-b008-bdd9b1bd10ed"
      },
      "execution_count": null,
      "outputs": [
        {
          "output_type": "stream",
          "name": "stdout",
          "text": [
            "[3.14, 'cat', 11, 'cat', True, 99]\n"
          ]
        }
      ]
    },
    {
      "cell_type": "markdown",
      "source": [
        "8. How does bacon.remove('cat') change the look of the list in bacon?"
      ],
      "metadata": {
        "id": "n1TzNdZgIsIR"
      }
    },
    {
      "cell_type": "code",
      "source": [
        "bacon.remove('cat') \n",
        "print(bacon)"
      ],
      "metadata": {
        "colab": {
          "base_uri": "https://localhost:8080/"
        },
        "id": "1jMHbrgiRLlL",
        "outputId": "38e74cfa-71ed-4c09-d2d6-9a02ecae9f15"
      },
      "execution_count": null,
      "outputs": [
        {
          "output_type": "stream",
          "name": "stdout",
          "text": [
            "[3.14, 11, 'cat', True, 99]\n"
          ]
        }
      ]
    },
    {
      "cell_type": "markdown",
      "source": [
        "9. What are the list concatenation and list replication operators?\n"
      ],
      "metadata": {
        "id": "wcXKxvvzIsK1"
      }
    },
    {
      "cell_type": "markdown",
      "source": [
        "Ans: In Python, the list concatenation operator is the plus sign +. It allows you to concatenate or join two lists into a single list. \n",
        "e.g.\n",
        "```\n",
        "list1=[1,2,3]\n",
        "list2=[4,5,6]\n",
        "list_concat=list1+list2\n",
        "print(list_concat)\n",
        "```\n",
        "Output\n",
        "```\n",
        "[1, 2, 3, 4, 5, 6]\n",
        "```\n",
        "\n",
        "The list replication operator in Python is the asterisk *. It allows you to create a new list by repeating the elements of an existing list a certain number of times. \n",
        "e.g.\n",
        "\n",
        "```\n",
        "list1=[1,2,3]\n",
        "list_replicate=list1*4\n",
        "print(list_replicate)\n",
        "```\n",
        "\n",
        "Output\n",
        "```\n",
        "[1, 2, 3, 1, 2, 3, 1, 2, 3, 1, 2, 3]\n",
        "```"
      ],
      "metadata": {
        "id": "XhkllnQrIsOA"
      }
    },
    {
      "cell_type": "markdown",
      "source": [
        "10. What is difference between the list methods append() and insert()?\n"
      ],
      "metadata": {
        "id": "Xyhj1RF_IsRb"
      }
    },
    {
      "cell_type": "markdown",
      "source": [
        "Ans: Both the append() and insert() methods are used to add elements to a Python list, but they differ in how they add the elements.\n",
        "\n",
        "The append() method adds an element to the end of the list. \n",
        "e.g.\n",
        "```\n",
        "list1=[1,2,3]\n",
        "list1.append(4)\n",
        "print(list1)\n",
        "```\n",
        "Output:\n",
        "```\n",
        "[1,2,3,4]\n",
        "```\n",
        "\n",
        "The insert() method, on the other hand, allows you to insert an element at a specific index in the list. \n",
        "e.g.\n",
        "```\n",
        "list1=[1,2,3]\n",
        "list1.index(1,4)  #index(loc,value) At location 1 insert 4\n",
        "print(list1)\n",
        "```\n",
        "Output:\n",
        "```\n",
        "[1,4,2,3]\n",
        "```\n",
        "\n",
        "So, the key difference between append() and insert() is that append() adds an element to the end of the list, while insert() inserts an element at a specific index in the list.\n"
      ],
      "metadata": {
        "id": "4dTItLUnIsUc"
      }
    },
    {
      "cell_type": "markdown",
      "source": [
        "11. What are the two methods for removing items from a list?"
      ],
      "metadata": {
        "id": "SfH15W_tIsXc"
      }
    },
    {
      "cell_type": "markdown",
      "source": [
        "Ans: In Python, there are two common methods for removing items from a list: remove() and pop().\n",
        "\n",
        "The remove() method is used to remove the first occurrence of a specified element from the list. Here's an example:\n",
        "```\n",
        "my_list = [1, 2, 3, 4, 5]\n",
        "my_list.remove(3)         # remove(element)\n",
        "print(my_list)  # Output: [1, 2, 4, 5]\n",
        "```\n",
        "\n",
        "The pop() method, on the other hand, is used to remove an element from a specific index in the list and return that element.\n",
        "\n",
        "```\n",
        "my_list = [1, 2, 3, 4, 5]\n",
        "popped_element = my_list.pop(2)      # pop(element_index)\n",
        "print(my_list)  # Output: [1, 2, 4, 5]\n",
        "print(popped_element)  # Output: 3\n",
        "\n",
        "```\n",
        "\n",
        "So, the key difference between remove() and pop() is that remove() removes a specific element from the list, while pop() removes an element at a specific index and returns that element."
      ],
      "metadata": {
        "id": "s_nuWdHiIsat"
      }
    },
    {
      "cell_type": "markdown",
      "source": [
        "12.  Describe how list values and string values are identical.\n"
      ],
      "metadata": {
        "id": "qkXv2u5lIsdr"
      }
    },
    {
      "cell_type": "markdown",
      "source": [
        "Ans:\n",
        "In Python, lists and strings are both sequences of values, which means they share some similarities in how they behave.\n",
        "\n",
        "One way in which lists and strings are identical is that they both support indexing and slicing. You can use square brackets ([]) to access individual elements or slices of elements from both lists and strings. For example:\n",
        "```\n",
        "# indexing a list\n",
        "my_list = [1, 2, 3]\n",
        "print(my_list[0])  # Output: 1\n",
        "\n",
        "# indexing a string\n",
        "my_string = \"hello\"\n",
        "print(my_string[0])  # Output: 'h'\n",
        "\n",
        "# slicing a list\n",
        "my_list = [1, 2, 3, 4, 5]\n",
        "print(my_list[1:3])  # Output: [2, 3]\n",
        "\n",
        "# slicing a string\n",
        "my_string = \"hello\"\n",
        "print(my_string[1:3])  # Output: 'el'\n",
        "\n",
        "```\n",
        "Another way in which lists and strings are identical is that they both support the len() function, which returns the number of elements (or characters) in the sequence. For example:\n",
        "```\n",
        "# using len() with a list\n",
        "my_list = [1, 2, 3]\n",
        "print(len(my_list))  # Output: 3\n",
        "\n",
        "# using len() with a string\n",
        "my_string = \"hello\"\n",
        "print(len(my_string))  # Output: 5\n",
        "\n",
        "```\n",
        "\n",
        "Furthermore, both lists and strings support various operations such as concatenation (+ operator) and replication (* operator). For example:\n",
        "```\n",
        "# concatenating two lists\n",
        "list1 = [1, 2, 3]\n",
        "list2 = [4, 5, 6]\n",
        "concatenated_list = list1 + list2\n",
        "print(concatenated_list)  # Output: [1, 2, 3, 4, 5, 6]\n",
        "\n",
        "# concatenating two strings\n",
        "string1 = \"hello\"\n",
        "string2 = \"world\"\n",
        "concatenated_string = string1 + string2\n",
        "print(concatenated_string)  # Output: 'helloworld'\n",
        "\n",
        "# replicating a list\n",
        "original_list = [1, 2, 3]\n",
        "replicated_list = original_list * 3\n",
        "print(replicated_list)  # Output: [1, 2, 3, 1, 2, 3, 1, 2, 3]\n",
        "\n",
        "# replicating a string\n",
        "original_string = \"hello\"\n",
        "replicated_string = original_string * 3\n",
        "print(replicated_string)  # Output: 'hellohellohello'\n",
        "\n",
        "```\n",
        "In summary, lists and strings in Python share several similarities, including support for indexing and slicing, the len() function, and various operations such as concatenation and replication."
      ],
      "metadata": {
        "id": "xDIEwl3OIshA"
      }
    },
    {
      "cell_type": "markdown",
      "source": [
        "13. What's the difference between tuples and lists?\n"
      ],
      "metadata": {
        "id": "ZO6wfs1KIsj3"
      }
    },
    {
      "cell_type": "markdown",
      "source": [
        "Ans: In Python, tuples and lists are both used to store collections of elements, but they have some differences in terms of their properties and usage.\n",
        "\n",
        "One key difference is that lists are mutable, meaning that you can modify the contents of a list by adding, removing, or modifying elements. Tuples, on the other hand, are immutable, meaning that once you create a tuple, you cannot modify its contents. For example:\n",
        "```\n",
        "# creating a list and modifying it\n",
        "my_list = [1, 2, 3]\n",
        "my_list.append(4)\n",
        "print(my_list)  # Output: [1, 2, 3, 4]\n",
        "\n",
        "# creating a tuple and trying to modify it\n",
        "my_tuple = (1, 2, 3)\n",
        "my_tuple.append(4)  # This will result in an AttributeError\n",
        "\n",
        "```\n",
        "Another difference is that lists use square brackets ([]) to enclose their elements, while tuples use parentheses (()). For example:\n",
        "```\n",
        "# creating a list\n",
        "my_list = [1, 2, 3]\n",
        "\n",
        "# creating a tuple\n",
        "my_tuple = (1, 2, 3)\n",
        "\n",
        "```\n",
        "\n",
        "Lists and tuples also have different methods available to them. For example, lists have methods like append(), insert(), and remove(), which allow you to add or remove elements from the list. Tuples, being immutable, don't have these methods. Instead, they have a few methods like count() and index() that allow you to perform operations on the elements of the tuple without modifying them. For example:\n",
        "```\n",
        "# using a list method\n",
        "my_list = [1, 2, 3]\n",
        "my_list.append(4)\n",
        "print(my_list)  # Output: [1, 2, 3, 4]\n",
        "\n",
        "# using a tuple method\n",
        "my_tuple = (1, 2, 3, 3)\n",
        "print(my_tuple.count(3))  # Output: 2\n",
        "\n",
        "```\n",
        "\n",
        "In terms of performance, tuples are generally faster than lists, since they are immutable and thus require less memory allocation and deallocation. However, lists are more flexible and versatile than tuples, since they can be modified and have more methods available to them.\n",
        "\n",
        "In summary, the main differences between tuples and lists in Python are their mutability, syntax, methods, and performance characteristics. Lists are mutable and use square brackets, while tuples are immutable and use parentheses. Lists have more methods available for modifying them, while tuples have a few methods for working with their contents without modifying them. Tuples are generally faster and more memory-efficient than lists, but less flexible and versatile."
      ],
      "metadata": {
        "id": "p18loAeQIsnC"
      }
    },
    {
      "cell_type": "markdown",
      "source": [
        "14.  How do you type a tuple value that only contains the integer 42?\n"
      ],
      "metadata": {
        "id": "mbSJv56gIsqG"
      }
    },
    {
      "cell_type": "markdown",
      "source": [
        "To type a tuple value that only contains the integer 42, you would use parentheses to define the tuple and separate the integer value with a comma. Here is an example:"
      ],
      "metadata": {
        "id": "QfHD8nK_agCr"
      }
    },
    {
      "cell_type": "code",
      "source": [
        "t=(42,)\n",
        "type(t)"
      ],
      "metadata": {
        "colab": {
          "base_uri": "https://localhost:8080/"
        },
        "id": "8RHTxxEXYXYr",
        "outputId": "4512d1cb-65e0-4322-b70d-b0dc403a436b"
      },
      "execution_count": null,
      "outputs": [
        {
          "output_type": "execute_result",
          "data": {
            "text/plain": [
              "tuple"
            ]
          },
          "metadata": {},
          "execution_count": 3
        }
      ]
    },
    {
      "cell_type": "markdown",
      "source": [
        "Note that the comma is important to distinguish the tuple from an integer value in parentheses. If you leave out the comma, Python will treat the value as an integer rather than a tuple."
      ],
      "metadata": {
        "id": "aIJR14gWIss-"
      }
    },
    {
      "cell_type": "markdown",
      "source": [
        "15. How do you get a list value's tuple form? How do you get a tuple value's list form?\n"
      ],
      "metadata": {
        "id": "wYC9t5-pIsv9"
      }
    },
    {
      "cell_type": "markdown",
      "source": [
        "- To get a list value's tuple form, you can use the tuple() function, which takes a list as an argument and returns a tuple that contains the same elements. \n",
        "- To get a tuple value's list form, you can use the list() function, which takes a tuple as an argument and returns a list that contains the same elements."
      ],
      "metadata": {
        "id": "yUqA9gK6b4p9"
      }
    },
    {
      "cell_type": "code",
      "source": [
        "l1=[1,2,3,4,5]\n",
        "t1=tuple(l1)\n",
        "print(f\"Tuple is: {t1} and type is:{type(t1)}\")\n",
        "# Convert tuple to list\n",
        "l2=list(t1)\n",
        "print(f\"List is: {l2} and type is:{type(l2)}\")"
      ],
      "metadata": {
        "colab": {
          "base_uri": "https://localhost:8080/"
        },
        "id": "2PRgE2Oma4j3",
        "outputId": "0b647dfa-a63d-410b-9059-ae19b5ec9d5a"
      },
      "execution_count": null,
      "outputs": [
        {
          "output_type": "stream",
          "name": "stdout",
          "text": [
            "Tuple is: (1, 2, 3, 4, 5) and type is:<class 'tuple'>\n",
            "List is: [1, 2, 3, 4, 5] and type is:<class 'list'>\n"
          ]
        }
      ]
    },
    {
      "cell_type": "markdown",
      "source": [
        "16. Variables that \"contain\" list values are not necessarily lists themselves. Instead, what do they contain?\n"
      ],
      "metadata": {
        "id": "uYEQNrsfIszP"
      }
    },
    {
      "cell_type": "markdown",
      "source": [
        "Ans: Variables that \"contain\" list values are actually references to the list objects. In other words, they contain memory addresses that point to the location of the list in the computer's memory. When you assign a list to a variable, the variable simply stores a reference to the memory location where the list is stored.\n",
        "\n",
        "This means that when you modify the contents of the list using the variable, you are actually modifying the list object itself, and not a copy of it. Additionally, you can have multiple variables referencing the same list object, and modifications made to the list through one variable will be reflected in all the other variables that reference the same list object.\n",
        "\n",
        "```\n",
        "a = [1, 2, 3]\n",
        "b = a\n",
        "```\n",
        " a and b both reference the same list object in memory, [1, 2, 3]. If we modify the list through one variable, the changes will be reflected in both variables:\n",
        " ```\n",
        "a.append(4)\n",
        "print(b)  # Output: [1, 2, 3, 4]\n",
        " ```\n",
        " Here, we append 4 to the list through a, but when we print b, we see that b has also been updated to [1, 2, 3, 4]. This is because a and b both reference the same list object in memory."
      ],
      "metadata": {
        "id": "lIV-1OXiIs2I"
      }
    },
    {
      "cell_type": "markdown",
      "source": [
        "17. How do you distinguish between copy.copy() and copy.deepcopy()?\n"
      ],
      "metadata": {
        "id": "emOk1beFIs5a"
      }
    },
    {
      "cell_type": "markdown",
      "source": [
        "Ans: In Python's copy module, copy() and deepcopy() are two methods used for creating copies of objects. These functions are used to create copies of objects to avoid unwanted side effects when manipulating data. Difference between the two:\n",
        "\n",
        "- copy.copy(): This function performs a shallow copy of an object. It creates a new object and then inserts references to the same elements found in the original object. In other words, it creates a new object, but the contents of the new object are references to the original elements. Changes made to the original object's elements will be reflected in the copied object, and vice versa. However, changes made to mutable elements within the object will not be reflected across the objects. Shallow copy is sufficient when the object contains only immutable types or you don't want to duplicate the entire object graph.\n",
        "\n",
        "- copy.deepcopy(): This function performs a deep copy of an object. It creates a completely independent copy of the object and its contents, recursively copying all nested objects as well. It means that changes made to the original object, its elements, or nested objects will not be reflected in the copied object. Deep copy is necessary when the object contains mutable types and you want to ensure complete separation between the original and copied objects.\n",
        "\n"
      ],
      "metadata": {
        "id": "Z3Sm0lBUIs8X"
      }
    },
    {
      "cell_type": "code",
      "source": [
        "import copy\n",
        "\n",
        "# Original data structure\n",
        "original = {\n",
        "    'list': [1, 2, 3],\n",
        "    'dict': {'a': 4, 'b': 5, 'c': 6}\n",
        "}\n",
        "\n",
        "# Shallow copy using copy.copy()\n",
        "shallow_copy = copy.copy(original)\n",
        "\n",
        "# Deep copy using copy.deepcopy()\n",
        "deep_copy = copy.deepcopy(original)\n",
        "\n",
        "# Modify original data structure\n",
        "original['list'].append(4)\n",
        "original['dict']['d'] = 7\n",
        "\n",
        "print(\"Original:\", original)\n",
        "print(\"Shallow Copy:\", shallow_copy)\n",
        "print(\"Deep Copy:\", deep_copy)"
      ],
      "metadata": {
        "colab": {
          "base_uri": "https://localhost:8080/"
        },
        "id": "CkoX90qUTPqd",
        "outputId": "7abe403e-6797-46ff-e76f-82ec6c799e5b"
      },
      "execution_count": 3,
      "outputs": [
        {
          "output_type": "stream",
          "name": "stdout",
          "text": [
            "Original: {'list': [1, 2, 3, 4], 'dict': {'a': 4, 'b': 5, 'c': 6, 'd': 7}}\n",
            "Shallow Copy: {'list': [1, 2, 3, 4], 'dict': {'a': 4, 'b': 5, 'c': 6, 'd': 7}}\n",
            "Deep Copy: {'list': [1, 2, 3], 'dict': {'a': 4, 'b': 5, 'c': 6}}\n"
          ]
        }
      ]
    },
    {
      "cell_type": "markdown",
      "source": [],
      "metadata": {
        "id": "w4HL1Y-lIs_g"
      }
    },
    {
      "cell_type": "markdown",
      "source": [],
      "metadata": {
        "id": "OEEgHS3yItCV"
      }
    },
    {
      "cell_type": "markdown",
      "source": [],
      "metadata": {
        "id": "BgMDV2GXItFR"
      }
    },
    {
      "cell_type": "markdown",
      "source": [],
      "metadata": {
        "id": "O-egHTKHItI5"
      }
    },
    {
      "cell_type": "markdown",
      "source": [],
      "metadata": {
        "id": "TIGf47AEItMh"
      }
    }
  ]
}